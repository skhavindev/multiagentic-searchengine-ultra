{
 "cells": [
  {
   "cell_type": "code",
   "id": "initial_id",
   "metadata": {
    "collapsed": true,
    "ExecuteTime": {
     "end_time": "2024-10-02T06:59:02.879907Z",
     "start_time": "2024-10-02T06:58:56.538863Z"
    }
   },
   "source": "!pip install -U duckduckgo_search",
   "outputs": [
    {
     "name": "stdout",
     "output_type": "stream",
     "text": [
      "Collecting duckduckgo_search\n",
      "  Downloading duckduckgo_search-6.2.13-py3-none-any.whl.metadata (25 kB)\n",
      "Requirement already satisfied: click>=8.1.7 in d:\\anaconda\\lib\\site-packages (from duckduckgo_search) (8.1.7)\n",
      "Collecting primp>=0.6.3 (from duckduckgo_search)\n",
      "  Downloading primp-0.6.3-cp38-abi3-win_amd64.whl.metadata (10 kB)\n",
      "Requirement already satisfied: colorama in d:\\anaconda\\lib\\site-packages (from click>=8.1.7->duckduckgo_search) (0.4.6)\n",
      "Downloading duckduckgo_search-6.2.13-py3-none-any.whl (27 kB)\n",
      "Downloading primp-0.6.3-cp38-abi3-win_amd64.whl (2.8 MB)\n",
      "   ---------------------------------------- 0.0/2.8 MB ? eta -:--:--\n",
      "   ----------- ---------------------------- 0.8/2.8 MB 6.6 MB/s eta 0:00:01\n",
      "   -------------------------- ------------- 1.8/2.8 MB 4.6 MB/s eta 0:00:01\n",
      "   -------------------------------------- - 2.6/2.8 MB 4.3 MB/s eta 0:00:01\n",
      "   ---------------------------------------- 2.8/2.8 MB 4.1 MB/s eta 0:00:00\n",
      "Installing collected packages: primp, duckduckgo_search\n",
      "Successfully installed duckduckgo_search-6.2.13 primp-0.6.3\n"
     ]
    }
   ],
   "execution_count": 1
  },
  {
   "metadata": {
    "ExecuteTime": {
     "end_time": "2024-10-02T07:00:36.915480Z",
     "start_time": "2024-10-02T07:00:35.849737Z"
    }
   },
   "cell_type": "code",
   "source": [
    "from duckduckgo_search import DDGS\n",
    "\n",
    "results = DDGS().text(\"Microsoft Outage\", max_results=5)\n",
    "print(results)"
   ],
   "id": "9e07425cb34afab5",
   "outputs": [
    {
     "name": "stdout",
     "output_type": "stream",
     "text": [
      "[{'title': 'Service Status - portal.microsoft.com', 'href': 'https://portal.microsoft.com/servicestatus', 'body': \"We're all good! Everything is up and running. Details Last refreshed: 2024-09-23 16:36:18Z (UTC)\"}, {'title': 'Service Status - portal.office.com', 'href': 'https://portal.office.com/servicestatus', 'body': \"We're all good! Everything is up and running. Service Current status Details Last refreshed: 2024-10-01 03:36:41Z (UTC)\"}, {'title': 'Microsoft down? Current problems and outages | Downdetector', 'href': 'https://downdetector.com/status/microsoft/', 'body': 'Check if Microsoft Store is down or having problems with website, app or check-out. See live map, user feedback and recent issues reported in the last 24 hours.'}, {'title': 'Microsoft 365 down? Current problems and outages - Downdetector', 'href': 'https://downdetector.com/status/microsoft-365/', 'body': 'Check if Microsoft 365 is down or having problems with Outlook, website or login. See live map, charts and user feedback of current issues and outages.'}, {'title': 'Microsoft service health status', 'href': 'https://status.cloud.microsoft/', 'body': 'Check the current status of Microsoft 365, Power Platform and Azure services. See the latest updates, RSS feeds and links to the new URL for service health status page.'}]\n"
     ]
    }
   ],
   "execution_count": 4
  },
  {
   "metadata": {
    "ExecuteTime": {
     "end_time": "2024-10-02T07:07:33.724129Z",
     "start_time": "2024-10-02T07:07:26.101679Z"
    }
   },
   "cell_type": "code",
   "source": [
    "import asyncio \n",
    "from duckduckgo_search import AsyncDDGS\n",
    "\n",
    "results = DDGS().chat(\"summarize Cognitive Behavior Therapy: Basics and Beyond – Judith S Beck \", model='claude-3-haiku')\n",
    "print(results)\n",
    "\n",
    "# async\n",
    "results = await AsyncDDGS().achat('Im feeling Lonely. What should I do?')\n",
    "print(results)"
   ],
   "id": "57304e086444f061",
   "outputs": [
    {
     "name": "stdout",
     "output_type": "stream",
     "text": [
      "Here is a summary of the key points from the book \"Cognitive Behavior Therapy: Basics and Beyond\" by Judith S. Beck:\n",
      "\n",
      "Cognitive Behavior Therapy (CBT) is a structured, goal-oriented form of psychotherapy that focuses on identifying and changing negative or distorted thought patterns that contribute to emotional and behavioral problems. The core premise of CBT is that our thoughts, rather than external events, determine how we feel and behave.\n",
      "\n",
      "The book outlines the basic principles and techniques of CBT, including:\n",
      "\n",
      "1. Cognitive Model: CBT is based on the cognitive model, which posits that our thoughts, emotions, physical sensations, and behaviors are all interconnected. Negative or distorted thoughts lead to problematic emotions and behaviors.\n",
      "\n",
      "2. Collaborative Relationship: The therapist and client work collaboratively to identify and modify unhelpful thought patterns. The therapist takes an active, directive role in guiding the client through the process.\n",
      "\n",
      "3. Structured Sessions: CBT sessions follow a structured format, typically beginning with an agenda, reviewing homework, discussing the current problem, and assigning new homework.\n",
      "\n",
      "4. Cognitive Techniques: Key techniques include identifying automatic thoughts, evaluating the evidence for and against these thoughts, and developing more balanced, adaptive ways of thinking.\n",
      "\n",
      "5. Behavioral Techniques: CBT also incorporates behavioral techniques, such as exposure therapy, behavioral activation, and skills training, to help clients change their problematic behaviors.\n",
      "\n",
      "6. Homework Assignments: Clients are given regular homework assignments to practice the skills and strategies learned in session, reinforcing the learning process.\n",
      "\n",
      "7. Empirically Supported: CBT has been extensively researched and is considered an empirically supported treatment for a wide range of mental health issues, including depression, anxiety disorders, and substance abuse.\n",
      "\n",
      "The book provides a comprehensive overview of the theoretical foundations, assessment, and treatment planning involved in CBT, as well as specific strategies for working with various client populations and presenting problems.\n",
      "Feeling lonely can be tough, but there are several things you can try to help alleviate that feeling:\n",
      "\n",
      "1. **Reach Out to Friends or Family**: Sometimes just talking to someone can make a big difference. Consider calling or texting someone you trust.\n",
      "\n",
      "2. **Join a Group or Club**: Look for local clubs or online communities that align with your interests. This can help you meet new people and make connections.\n",
      "\n",
      "3. **Volunteer**: Helping others can be a great way to feel more connected and fulfilled. Look for local organizations that need volunteers.\n",
      "\n",
      "4. **Engage in Hobbies**: Spend time doing things you enjoy, whether it's reading, painting, or playing a sport. This can help distract you and lift your mood.\n",
      "\n",
      "5. **Practice Mindfulness or Meditation**: These practices can help you feel more grounded and connected to yourself, which can ease feelings of loneliness.\n",
      "\n",
      "6. **Consider Professional Help**: If loneliness persists, talking to a therapist or counselor can provide support and strategies to cope.\n",
      "\n",
      "7. **Get Outside**: Sometimes a change of scenery can help. Go for a walk, visit a park, or just sit outside for a bit.\n",
      "\n",
      "Remember, it's okay to feel lonely, and taking small steps can help you feel more connected over time.\n"
     ]
    }
   ],
   "execution_count": 10
  },
  {
   "metadata": {
    "ExecuteTime": {
     "end_time": "2024-10-02T07:08:36.532182Z",
     "start_time": "2024-10-02T07:08:35.948136Z"
    }
   },
   "cell_type": "code",
   "source": [
    "results = DDGS().answers(\"sun\")\n",
    "\n",
    "# async\n",
    "results = await AsyncDDGS().aanswers(\"sun\")\n",
    "print(results)"
   ],
   "id": "2bc4ea4043109b5a",
   "outputs": [
    {
     "name": "stdout",
     "output_type": "stream",
     "text": [
      "[{'icon': None, 'text': \"The Sun is the star at the center of the Solar System. It is a massive, nearly perfect sphere of hot plasma, heated to incandescence by nuclear fusion reactions in its core, radiating the energy from its surface mainly as visible light and infrared radiation with 10% at ultraviolet energies. It is by far the most important source of energy for life on Earth. The Sun has been an object of veneration in many cultures. It has been a central subject for astronomical research since antiquity. The Sun orbits the Galactic Center at a distance of 24,000 to 28,000 light-years. From Earth, it is 1 astronomical unit or about 8 light-minutes away. Its diameter is about 1,391,400 km, 109 times that of Earth. Its mass is about 330,000 times that of Earth, making up about 99.86% of the total mass of the Solar System. Roughly three-quarters of the Sun's mass consists of hydrogen; the rest is mostly helium, with much smaller quantities of heavier elements, including oxygen, carbon, neon, and iron.\", 'topic': None, 'url': 'https://en.wikipedia.org/wiki/Sun'}, {'icon': 'https://duckduckgo.com/i/d54f2507.png', 'text': 'Sun The star at the center of the Solar System.', 'topic': None, 'url': 'https://duckduckgo.com/Sun'}, {'icon': 'https://duckduckgo.com/i/c1cb6a09.jpg', 'text': 'Sun Yat-sen A Chinese revolutionary statesman, physician, and political philosopher who served as the first...', 'topic': None, 'url': 'https://duckduckgo.com/Sun_Yat-sen'}, {'icon': 'https://duckduckgo.com/i/7e37a6c6.png', 'text': 'Phoenix Suns An American professional basketball team based in Phoenix, Arizona.', 'topic': None, 'url': 'https://duckduckgo.com/Phoenix_Suns'}, {'icon': 'https://duckduckgo.com/i/945b5133.jpg', 'text': 'star A luminous spheroid of plasma held together by self-gravity. The nearest star to Earth is the Sun.', 'topic': None, 'url': 'https://duckduckgo.com/star'}, {'icon': '', 'text': 'Sun, West Virginia An unincorporated community and coal town in Fayette County, West Virginia, United States.', 'topic': 'Places', 'url': 'https://duckduckgo.com/Sun%2C_West_Virginia'}, {'icon': '', 'text': 'Sun Glacier A glacier in Greenland.', 'topic': 'Places', 'url': 'https://duckduckgo.com/Sun_Glacier'}, {'icon': 'https://duckduckgo.com/i/dae1f904.png', 'text': 'Sunoco An American master limited partnership organized under Delaware state laws and headquartered in...', 'topic': 'Companies', 'url': 'https://duckduckgo.com/Sunoco'}, {'icon': 'https://duckduckgo.com/i/ac80546e.png', 'text': 'Sun Cellular Digitel Mobile Philippines, Inc., doing business as Sun Cellular, was a wholly owned subsidiary...', 'topic': 'Companies', 'url': 'https://duckduckgo.com/Sun_Cellular'}, {'icon': 'https://duckduckgo.com/i/3e13b9cc.png', 'text': 'Sun Microsystems Sun Microsystems, Inc. was an American technology company that sold computers, computer...', 'topic': 'Companies', 'url': 'https://duckduckgo.com/Sun_Microsystems'}, {'icon': '', 'text': 'Sun Finance A Latvian financial technology company operating as an online and mobile lending marketplace.', 'topic': 'Companies', 'url': 'https://duckduckgo.com/Sun_Finance'}, {'icon': 'https://duckduckgo.com/i/fc286444.jpg', 'text': 'Sun Group An Indian media conglomerate, based in Chennai. It was founded by Kalanithi Maran in 1992.', 'topic': 'Companies', 'url': 'https://duckduckgo.com/Sun_Group'}, {'icon': 'https://duckduckgo.com/i/7af6242b.png', 'text': 'Sun Media The owner of several tabloid and broadsheet newspapers in Canada and the 49 percent owner of the...', 'topic': 'Companies', 'url': 'https://duckduckgo.com/Sun_Media'}, {'icon': '', 'text': \"Sun (St. Paul's Churchyard) A historical bookseller in London.\", 'topic': 'Companies', 'url': \"https://duckduckgo.com/Sun_(St._Paul's_Churchyard)\"}, {'icon': 'https://duckduckgo.com/i/9a9386d2.png', 'text': 'Sun Orthodontix An orthodontics office company.', 'topic': 'Companies', 'url': 'https://duckduckgo.com/Sun_Orthodontix'}, {'icon': 'https://duckduckgo.com/i/04f6544c.png', 'text': 'Sun Television and Appliances A speciality retailer of consumer electronics, home appliances, and office equipment founded in...', 'topic': 'Companies', 'url': 'https://duckduckgo.com/Sun_Television_and_Appliances'}, {'icon': 'https://duckduckgo.com/i/a5ab6c82.png', 'text': 'Sun TV Network An Indian Media conglomerate company headquartered in Chennai, Tamil Nadu, India.', 'topic': 'Companies', 'url': 'https://duckduckgo.com/Sun_TV_Network'}, {'icon': 'https://duckduckgo.com/i/5a9780be.jpg', 'text': 'Sun Newspapers Sun Newspapers was formed as a chain of weekly newspapers serving Northeast Ohio.', 'topic': 'Literature', 'url': 'https://duckduckgo.com/Sun_Newspapers'}, {'icon': '', 'text': 'Sun (German band) An Alternative rock band from Mönchengladbach, Germany with English lyrics and styles described...', 'topic': 'Music', 'url': 'https://duckduckgo.com/Sun_(German_band)'}, {'icon': 'https://duckduckgo.com/i/sun-thelegendaryfunkband.com.ico', 'text': 'Sun (R&B band) An R&B, soul, disco, and funk band that was formed in the mid-1970s and recorded prolifically for...', 'topic': 'Music', 'url': 'https://duckduckgo.com/Sun_(R%26B_band)'}, {'icon': '', 'text': 'Silver Sun A British power pop band, who formed in 1995 in Camden, London.', 'topic': 'Music', 'url': 'https://duckduckgo.com/Silver_Sun'}, {'icon': '', 'text': 'Sun (Cat Power album) The ninth studio album by American musician Cat Power.', 'topic': 'Music', 'url': 'https://duckduckgo.com/Sun_(Cat_Power_album)'}, {'icon': '', 'text': 'Sun (Nopsajalka album) The fourth solo studio album by Finnish musician Nopsajalka.', 'topic': 'Music', 'url': 'https://duckduckgo.com/Sun_(Nopsajalka_album)'}, {'icon': '', 'text': 'Sun (Thomas Bergersen album) The second studio album by Norwegian composer Thomas Bergersen, of Two Steps from Hell fame.', 'topic': 'Music', 'url': 'https://duckduckgo.com/Sun_(Thomas_Bergersen_album)'}, {'icon': '', 'text': '\"Sun\" (Belinda Carlisle song) A single by American singer Belinda Carlisle, the first after a 15-year hiatus.', 'topic': 'Music', 'url': 'https://duckduckgo.com/Sun_(Belinda_Carlisle_song)'}, {'icon': 'https://duckduckgo.com/i/01d2c7aa.jpg', 'text': '\"Sun\" (Live song) The fifth studio album by the band Live, released in 1999.', 'topic': 'Music', 'url': 'https://duckduckgo.com/The_Distance_to_Here'}, {'icon': 'https://duckduckgo.com/i/9c3ad82e.jpg', 'text': '\"Sun\" (Two Door Cinema Club song) A song by Northern Irish indie rock band Two Door Cinema Club from their second studio album...', 'topic': 'Music', 'url': 'https://duckduckgo.com/Sun_(Two_Door_Cinema_Club_song)'}, {'icon': '', 'text': '\"Sun\" (Gen Hoshino song) A song by Japanese musician Gen Hoshino from his fourth studio album, Yellow Dancer.', 'topic': 'Music', 'url': 'https://duckduckgo.com/Sun_(Gen_Hoshino_song)'}, {'icon': 'https://duckduckgo.com/i/5a744932.jpg', 'text': 'Sun Records An American independent record label founded by producer Sam Phillips in Memphis, Tennessee on...', 'topic': 'Music', 'url': 'https://duckduckgo.com/Sun_Records'}, {'icon': '', 'text': 'Sun Records (jazz) A jazz record company and label created by Sébastien Bernard in 1971 to distribute the label...', 'topic': 'Music', 'url': 'https://duckduckgo.com/Sun_Records_(jazz)'}, {'icon': '', 'text': 'Sun (film) A 1929 Italian silent drama film directed by Alessandro Blasetti and starring Marcello Spada...', 'topic': 'Stage and screen', 'url': 'https://duckduckgo.com/Sun_(film)'}, {'icon': 'https://duckduckgo.com/i/a5ab6c82.png', 'text': 'Sun News (India) A 24-hour Tamil news satellite television channel headquartered at Chennai, Tamil Nadu.', 'topic': 'Stage and screen', 'url': 'https://duckduckgo.com/Sun_News_(India)'}, {'icon': 'https://duckduckgo.com/i/f0f02bb7.png', 'text': 'Sun News Network A Canadian English language Category C news channel owned by Québecor Média through a partnership...', 'topic': 'Stage and screen', 'url': 'https://duckduckgo.com/Sun_News_Network'}, {'icon': '', 'text': 'Sun Sports An American regional sports network owned by Diamond Sports Group, a joint venture between...', 'topic': 'Stage and screen', 'url': 'https://duckduckgo.com/Fox_Sports_Sun'}, {'icon': 'https://duckduckgo.com/i/d3263064.jpg', 'text': 'Sun Television Sun Television Co. is a commercial television station headquartered in Kobe, Hyōgo Prefecture...', 'topic': 'Stage and screen', 'url': 'https://duckduckgo.com/Sun_Television'}, {'icon': 'https://duckduckgo.com/i/3f192276.png', 'text': 'SUN TV (Canada) A broadcast television station based in Toronto, Ontario, Canada, which broadcast to much of...', 'topic': 'Stage and screen', 'url': 'https://duckduckgo.com/CKXT-DT'}, {'icon': 'https://duckduckgo.com/i/33c36f7a.png', 'text': 'Sun TV (India) An Indian Tamil-language general entertainment pay television channel owned by Sun TV Network.', 'topic': 'Stage and screen', 'url': 'https://duckduckgo.com/Sun_TV_(India)'}, {'icon': '', 'text': 'INews An Indonesian free-to-air television broadcaster founded by Media Nusantara Citra, a subsidiary...', 'topic': 'Stage and screen', 'url': 'https://duckduckgo.com/INews'}, {'icon': '', 'text': 'WSUN (FM) A commercial FM radio station, licensed to Holiday, Florida, and serving the Tampa Bay Area.', 'topic': 'Stage and screen', 'url': 'https://duckduckgo.com/WSUN_(FM)'}, {'icon': '', 'text': 'WSUN-TV A television station located in St. Petersburg, Florida, United States.', 'topic': 'Stage and screen', 'url': 'https://duckduckgo.com/WSUN-TV'}, {'icon': '', 'text': 'WSUN (defunct) A radio station which broadcast to Tampa Bay Area, Florida from 1927 until 2001.', 'topic': 'Stage and screen', 'url': 'https://duckduckgo.com/WSUN_(defunct)'}, {'icon': 'https://duckduckgo.com/i/358824da.png', 'text': 'Connecticut Sun An American professional basketball team based in Uncasville, Connecticut, that competes in the...', 'topic': 'Sports', 'url': 'https://duckduckgo.com/Connecticut_Sun'}, {'icon': '', 'text': 'Gold Coast Suns A professional Australian rules football club that competes in the Australian Football League.', 'topic': 'Sports', 'url': 'https://duckduckgo.com/Gold_Coast_Suns'}, {'icon': 'https://duckduckgo.com/i/7e37a6c6.png', 'text': 'Phoenix Suns An American professional basketball team based in Phoenix, Arizona.', 'topic': 'Sports', 'url': 'https://duckduckgo.com/Phoenix_Suns'}, {'icon': '', 'text': 'Sun (motorcycle) The Sun Cycle & Fittings Co. Ltd. was an English manufacturer of motorcycles, mopeds and bicycles.', 'topic': 'Transportation', 'url': 'https://duckduckgo.com/Sun_(motorcycle)'}, {'icon': 'https://duckduckgo.com/i/8427074b.jpg', 'text': 'Sun-class cruise ship A class of cruise ships originally built for by Princess Cruises and now operated by P&O Cruises...', 'topic': 'Transportation', 'url': 'https://duckduckgo.com/Sun-class_cruise_ship'}, {'icon': '', 'text': 'GWR Sun Class The Great Western Railway Sun Class 2-2-2 broad gauge steam locomotives for passenger train work.', 'topic': 'Transportation', 'url': 'https://duckduckgo.com/GWR_Sun_Class'}, {'icon': 'https://duckduckgo.com/i/7db29c26.jpg', 'text': \"Sunderland station ' A railway and metro station in Sunderland, Tyne and Wear, England.\", 'topic': 'Transportation', 'url': 'https://duckduckgo.com/Sunderland_station'}, {'icon': '', 'text': \"Sunny Bay station ' An MTR station in Yam O. It is between Tung Chung and Tsing Yi stations.\", 'topic': 'Transportation', 'url': 'https://duckduckgo.com/Sunny_Bay_station'}, {'icon': 'https://duckduckgo.com/i/6b7d4fb9.jpg', 'text': 'Sunshine railway station, Melbourne Sunshine railway station is located on the Sunbury line in Victoria, Australia, serving the...', 'topic': 'Transportation', 'url': 'https://duckduckgo.com/Sunshine_railway_station%2C_Melbourne'}, {'icon': 'https://duckduckgo.com/i/www.flyfma.com.ico', 'text': \"Friedman Memorial Airport ' A city-owned public-use airport in the northwest United States, located one nautical mile...\", 'topic': 'Transportation', 'url': 'https://duckduckgo.com/Friedman_Memorial_Airport'}, {'icon': 'https://duckduckgo.com/i/8cc19f50.jpg', 'text': 'Sun Ra An American jazz composer, bandleader, piano and synthesizer player, and poet known for his...', 'topic': 'People', 'url': 'https://duckduckgo.com/Sun_Ra'}, {'icon': 'https://duckduckgo.com/i/c1cb6a09.jpg', 'text': 'Sun Yat-sen A Chinese revolutionary statesman, physician, and political philosopher who served as the first...', 'topic': 'People', 'url': 'https://duckduckgo.com/Sun_Yat-sen'}, {'icon': 'https://duckduckgo.com/i/6e4293c6.jpg', 'text': 'Sun Mingming A Chinese former professional basketball player.', 'topic': 'People', 'url': 'https://duckduckgo.com/Sun_Mingming'}, {'icon': 'https://duckduckgo.com/i/0ea20600.png', 'text': 'Sun Myung Moon A Korean religious leader, also known for his business ventures and support for conservative...', 'topic': 'People', 'url': 'https://duckduckgo.com/Sun_Myung_Moon'}, {'icon': 'https://duckduckgo.com/i/www.heyaosun.com.ico', 'text': 'Ho Yeow Sun A Singaporean Christian pastor and co-founder of City Harvest Church, and former Mandopop singer.', 'topic': 'People', 'url': 'https://duckduckgo.com/Ho_Yeow_Sun'}, {'icon': '', 'text': 'Joe Sun An American country music singer-songwriter.', 'topic': 'People', 'url': 'https://duckduckgo.com/Joe_Sun'}, {'icon': 'https://duckduckgo.com/i/7332240c.png', 'text': 'Sun (heraldry) A representation of the sun is used as a heraldic charge.', 'topic': 'Other uses', 'url': 'https://duckduckgo.com/Sun_(heraldry)'}, {'icon': 'https://duckduckgo.com/i/www.unina2.it.ico', 'text': 'Seconda Università degli Studi di Napoli A university located in the cities and territories of Caserta and Naples, from the region of...', 'topic': 'Other uses', 'url': 'https://duckduckgo.com/Seconda_Universit%C3%A0_degli_Studi_di_Napoli'}, {'icon': 'https://duckduckgo.com/i/7cd252de.jpg', 'text': 'Soul of the Ultimate Nation A fantasy-based massive multiplayer online role-playing game produced by Webzen, a Korean-based...', 'topic': 'Other uses', 'url': 'https://duckduckgo.com/Soul_of_the_Ultimate_Nation'}, {'icon': '', 'text': 'SU(n) The special unitary group of degree n, a concept in mathematics.', 'topic': 'Other uses', 'url': 'https://duckduckgo.com/Special_unitary_group'}, {'icon': 'https://duckduckgo.com/i/1505a204.jpg', 'text': 'Cun (unit) A traditional Chinese unit of length.', 'topic': 'Other uses', 'url': 'https://duckduckgo.com/Cun_(unit)'}, {'icon': '', 'text': 'Sun (surname) A Chinese surname and list of people with the surname.', 'topic': 'See also', 'url': 'https://duckduckgo.com/d/Sun_(surname)'}, {'icon': '', 'text': \"Sun FM See related meanings for the phrase 'Sun FM'.\", 'topic': 'See also', 'url': 'https://duckduckgo.com/d/Sun_FM'}, {'icon': '', 'text': \"The Sun See related meanings for the phrase 'The Sun'.\", 'topic': 'See also', 'url': 'https://duckduckgo.com/d/The_Sun'}, {'icon': '', 'text': \"Son See related meanings for the word 'Son'.\", 'topic': 'See also', 'url': 'https://duckduckgo.com/d/Son'}, {'icon': '', 'text': \"Sonne See related meanings for the word 'Sonne'.\", 'topic': 'See also', 'url': 'https://duckduckgo.com/d/Sonne'}, {'icon': '', 'text': \"Sol See related meanings for the word 'Sol'.\", 'topic': 'See also', 'url': 'https://duckduckgo.com/d/Sol'}]\n"
     ]
    }
   ],
   "execution_count": 11
  },
  {
   "metadata": {
    "ExecuteTime": {
     "end_time": "2024-10-02T07:10:11.082922Z",
     "start_time": "2024-10-02T07:10:09.867577Z"
    }
   },
   "cell_type": "code",
   "source": [
    "results = DDGS().news(keywords=\"Nvidia Stocks\", region=\"wt-wt\", safesearch=\"off\", timelimit=\"m\", max_results=20)\n",
    "\n",
    "# async\n",
    "results = await AsyncDDGS().anews('Nvidia Stocks', region='wt-wt', safesearch='off', timelimit='d', max_results=10)\n",
    "print(results)"
   ],
   "id": "cddbe3563901347b",
   "outputs": [
    {
     "name": "stdout",
     "output_type": "stream",
     "text": [
      "[{'date': '2024-10-01T16:44:00+00:00', 'title': 'Nvidia Stock Price May Not Be Dented By Cerebras IPO', 'body': \"To take market share from Nvidia, Cerberas would need to add application software that is more advanced and useful than Nvidia's CUDA.\", 'url': 'https://www.forbes.com/sites/petercohan/2024/10/01/nvidia-stock-price-may-not-be-dented-by-cerebras-ipo/', 'image': 'https://imageio.forbes.com/specials-images/imageserve/66fbae0e429b8ba3da97884b/0x0.jpg?format=jpg&height=900&width=1600&fit=bounds', 'source': 'Forbes'}, {'date': '2024-10-01T12:15:00+00:00', 'title': 'NVIDIA Corporation (NASDAQ:NVDA) is largely controlled by institutional shareholders who own 66% of the company', 'body': 'Every investor in NVIDIA Corporation ( NASDAQ:NVDA) should be aware of the most powerful shareholder groups. With 66% stake, institutions possess the maximum shares in the company. Put another way, the group faces the maximum upside potential (or downside risk).', 'url': 'https://finance.yahoo.com/news/nvidia-corporation-nasdaq-nvda-largely-120024903.html', 'image': 'https://media.zenfs.com/en/simply_wall_st__316/dca719ac52e206a9a696149c1568653d', 'source': 'YAHOO!Finance'}, {'date': '2024-10-01T19:07:00+00:00', 'title': 'Why Nvidia, Micron, Broadcom, and Other Artificial Intelligence (AI) and Semiconductor Stocks Slumped on Tuesday', 'body': 'The semiconductor industry has been on an epic run since early last year. The risk of a short-term disruption just increased exponentially.', 'url': 'https://www.fool.com/investing/2024/10/01/why-nvidia-micron-broadcom-and-other-artificial-in/', 'image': 'https://g.foolcdn.com/editorial/images/792623/thoughtful-person-looking-at-graphs-on-a-tablet-computer.jpg', 'source': 'The Motley Fool'}, {'date': '2024-10-01T23:28:00+00:00', 'title': 'Why Nvidia and other US tech stocks slumped on Tuesday', 'body': 'The semiconductor industry has been on an epic run since early last year. The risk of a short-term disruption just increased exponentially. The post Why Nvidia and other US tech stocks slumped on Tuesday appeared first on The Motley Fool Australia.', 'url': 'https://www.msn.com/en-us/lifestyle/other/why-nvidia-and-other-us-tech-stocks-slumped-on-tuesday/ar-AA1ryaMa', 'image': 'https://img-s-msn-com.akamaized.net/tenant/amp/entityid/AA1ryjM6.img?w=2121&h=1193&m=4&q=35', 'source': 'MSN'}, {'date': '2024-10-01T09:39:00+00:00', 'title': 'These 2 Semiconductor Stocks Are Down Over 22%, but Could Soar in 2025', 'body': 'If analyst forecasts are correct, one of these two tech stocks could nearly double your money in the next year.', 'url': 'https://www.fool.com/investing/2024/10/01/semiconductor-stocks-down-soar-2025/', 'image': 'https://g.foolcdn.com/editorial/images/792454/computer-chip.jpg', 'source': 'The Motley Fool'}, {'date': '2024-10-01T22:56:00+00:00', 'title': \"Forget Nvidia: The best-performing S&P 500 stock this year is a utility you've probably never heard of\", 'body': '\"Nuclear plants\\' year-round, low-cost, emissions-free power matches well with data centers\\' constant energy needs,\" Morningstar\\'s Travis Miller said.', 'url': 'https://www.aol.com/forget-nvidia-best-performing-p-195605371.html', 'image': 'https://s.yimg.com/ny/api/res/1.2/vlj1I3_DCxb_QecFqjSDkg--/YXBwaWQ9aGlnaGxhbmRlcjt3PTEyMDA7aD05MDA-/https://media.zenfs.com/en/aol_business_insider_articles_308/c60c356d47e6d9417a503bd3371a56e4', 'source': 'AOL'}, {'date': '2024-10-01T17:30:00+00:00', 'title': 'Should Nvidia Investors Be Worried About Recent China Guidance?', 'body': 'Stock Advisor provides investors with an easy-to-follow blueprint for success, including guidance on building a portfolio, regular updates from analysts, and two new stock picks each month. The Stock Advisor service has more than quadrupled the return of S&P 500 since 2002*.', 'url': 'https://www.aol.com/nvidia-investors-worried-recent-china-143000166.html', 'image': '', 'source': 'AOL'}, {'date': '2024-10-01T10:00:00+00:00', 'title': \"What's New With AMD Stock?\", 'body': \"AMD has benefited from a couple of factors, including the Fed's recent interest rate cut as well as recent customer wins for its GPU business.\", 'url': 'https://www.forbes.com/sites/greatspeculations/2024/10/01/whats-happening-with-amd-stock/', 'image': 'https://imageio.forbes.com/specials-images/imageserve/66fb6a86b8c70e06134e5f53/0x0.jpg?format=jpg&height=900&width=1600&fit=bounds', 'source': 'Forbes'}, {'date': '2024-10-01T18:35:00+00:00', 'title': 'Nvidia rival Cerebras Systems files for IPO as demand for chips soars and investors hunger for AI stocks', 'body': 'Cerebras Systems, an AI chipmaker with ambitions to rival Nvidia, has filed SEC paperwork for an IPO, with plans to list shares on the Nasdaq.', 'url': 'https://www.fastcompany.com/91200870/cerebras-systems-ipo-date-nears-nasdaq-stock-plan-ai-chipmaker-filing', 'image': '', 'source': 'Fast Company'}, {'date': '2024-10-01T12:46:00+00:00', 'title': \"What Is Jensen Huang's Net Worth? Nvidia's CEO Wealth Analyzed\", 'body': \"Explore Jensen Huang's net worth in 2024. Learn more about the Nvidia CEO's wealth over the years, his early ventures, education & family.\", 'url': 'https://www.techopedia.com/jensen-huang-net-worth', 'image': 'https://www.techopedia.com/wp-content/uploads/2024/10/What-Is-Jensen-Huangs-Net-Worth-Nvidias-CEO-Wealth-Analyzed.jpg', 'source': 'Techopedia'}]\n"
     ]
    }
   ],
   "execution_count": 13
  }
 ],
 "metadata": {
  "kernelspec": {
   "display_name": "Python 3",
   "language": "python",
   "name": "python3"
  },
  "language_info": {
   "codemirror_mode": {
    "name": "ipython",
    "version": 2
   },
   "file_extension": ".py",
   "mimetype": "text/x-python",
   "name": "python",
   "nbconvert_exporter": "python",
   "pygments_lexer": "ipython2",
   "version": "2.7.6"
  }
 },
 "nbformat": 4,
 "nbformat_minor": 5
}
